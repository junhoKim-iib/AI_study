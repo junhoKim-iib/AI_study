{
  "nbformat": 4,
  "nbformat_minor": 0,
  "metadata": {
    "colab": {
      "provenance": []
    },
    "kernelspec": {
      "name": "python3",
      "display_name": "Python 3"
    },
    "language_info": {
      "name": "python"
    },
    "accelerator": "GPU",
    "gpuClass": "standard"
  },
  "cells": [
    {
      "cell_type": "code",
      "execution_count": 2,
      "metadata": {
        "id": "OEXQV-kt8r4s"
      },
      "outputs": [],
      "source": [
        "from sklearn.datasets import fetch_openml   # Fetch dataset from openml"
      ]
    },
    {
      "cell_type": "code",
      "source": [
        "mnist = fetch_openml(\"mnist_784\", version=1, cache=True, as_frame=False)# mnist 데이터 가져오기. 28 * 28 = 784개의 속성 "
      ],
      "metadata": {
        "id": "-h3Lnmrt86wK"
      },
      "execution_count": 3,
      "outputs": []
    },
    {
      "cell_type": "code",
      "source": [
        "# 학습데이터, 타겟 데이터 \n",
        "X = mnist.data\n",
        "y = mnist.target"
      ],
      "metadata": {
        "id": "T-Eh8xhL86KL"
      },
      "execution_count": 4,
      "outputs": []
    },
    {
      "cell_type": "code",
      "source": [
        "import torch   # pytorch \n",
        "from torch.utils.data import TensorDataset, DataLoader  # data loading utility\n",
        "from sklearn.model_selection import train_test_split  # Split arrays or matrices into random train and test subsets"
      ],
      "metadata": {
        "id": "4z7b1cBnbQ0w"
      },
      "execution_count": 5,
      "outputs": []
    },
    {
      "cell_type": "code",
      "source": [
        "# proportion of the dataset to include in the train split : 1/7 , random_state: None \n",
        "X_train, X_test, y_train, y_test = train_test_split(X,y, test_size=1/7, random_state=0)\n",
        "# multi-dimensional matrix containing elements of a single data type\n",
        "X_train = torch.Tensor(X_train)\n",
        "X_test = torch.Tensor(X_test)\n",
        "# 64-bit integer (signed)\n",
        "y_train = torch.LongTensor(list(map(int, y_train)))\n",
        "y_test = torch.LongTensor(list(map(int, y_test)))"
      ],
      "metadata": {
        "id": "_K4TfUkjbW84"
      },
      "execution_count": 6,
      "outputs": []
    },
    {
      "cell_type": "code",
      "source": [
        "import torch.nn as nn  # neural network \n",
        "import torch.nn.functional as F # dropout, relu \n",
        "from torch import optim # optimization algorithms\n",
        "from torch.autograd import Variable # automatic differentiation"
      ],
      "metadata": {
        "id": "-GFJVdzCbhvu"
      },
      "execution_count": 7,
      "outputs": []
    },
    {
      "cell_type": "code",
      "source": [
        "X_train = X_train.view(-1, 1, 28,28).float() # reshape\n",
        "X_test = X_test.view(-1, 1, 28,28).float()  # reshape \n",
        "print(X_train.shape)\n",
        "print(X_test.shape)"
      ],
      "metadata": {
        "colab": {
          "base_uri": "https://localhost:8080/"
        },
        "id": "iimEKM5ibp_u",
        "outputId": "273f2da3-8956-48b4-eaea-8eab0e041c83"
      },
      "execution_count": 8,
      "outputs": [
        {
          "output_type": "stream",
          "name": "stdout",
          "text": [
            "torch.Size([60000, 1, 28, 28])\n",
            "torch.Size([10000, 1, 28, 28])\n"
          ]
        }
      ]
    },
    {
      "cell_type": "code",
      "source": [
        "train = TensorDataset(X_train, y_train)  # training data\n",
        "test = TensorDataset(X_test, y_test)  # test data \n",
        "BATCH_SIZE = 64\n",
        "loader_train = DataLoader(train, batch_size= BATCH_SIZE, shuffle=False) # batch size = 64, no shuffle \n",
        "loader_test = DataLoader(test, batch_size= BATCH_SIZE, shuffle=False)  # batch size = 64, no shuffle \n"
      ],
      "metadata": {
        "id": "GIqau22nb2Y2"
      },
      "execution_count": 9,
      "outputs": []
    },
    {
      "cell_type": "code",
      "source": [
        "class CNN(nn.Module):\n",
        "    def __init__(self):\n",
        "        super(CNN, self).__init__()\n",
        "        # nn.Conv2d의 첫 두 파라미터는 입력 채널수(in_channels)와 출력 채널수(out_channels)\n",
        "        self.conv1 = nn.Conv2d(1,10,kernel_size=5) # 10개의 특징맵  kernel size : 5 x 5 \n",
        "        self.conv2 = nn.Conv2d(10,20,kernel_size=5) # 10개의 특징맵에서 20개의  특징맵. \n",
        "         \n",
        "        self.conv2_drop = nn.Dropout2d() # 컨볼루션 결과 출력값 드롭아웃\n",
        "        self.fc1 = nn.Linear(320, 50) # 컨볼루션과 드롭아웃을 거친 이미지는 nn.Linear의 일반 신경망을 거침\n",
        "        self.fc2 = nn.Linear(50, 10) # 입력크기 50, 출력은 분류할 클래스 개수인 10으로 설정\n",
        "\n",
        "        self.loss_fn = nn.CrossEntropyLoss() # loss function. CrossEntropy\n",
        "        self.optimizer = optim.Adam(self.parameters(), lr=0.01) # adam optimizer. learning rate : 0.01\n",
        "\n",
        "    def forward(self, x):  # forward function \n",
        "        x = F.relu(F.max_pool2d(self.conv1(x), 2))\n",
        "        # 입력이이 첫 컨볼루션 계층을 거치고 F.max_pool2d함수를 거침 \n",
        "        # F.max_pool2d의 두 번째 입력은 커널 크기\n",
        "        # convolution이 max pooling을 통과한 x는 F.relu()활성화 함수를 거침침\n",
        "        x = F.relu(F.max_pool2d(self.conv2_drop(self.conv2(x)), 2)) # 두번째 컨볼루션 계층도 똑같이 반복\n",
        "        x = x.view(-1, 320) # 컨볼루션 계층 2개를 거쳐 특징맵이 된 x를 1차원으로. (-1은 남는차원 모두, 320은 x가 가진 원소개수)\n",
        "        x = F.relu(self.fc1(x)) \n",
        "        x = F.dropout(x, training=self.training) # ReLU 활성화 함수를 거친 뒤 드롭아웃을 사용\n",
        "        x = self.fc2(x) # 0부터 9까지 레이블을 갖는 10개의 출력값을 가지는 신경망\n",
        "        return F.log_softmax(x, dim=1) # return log softmax \n",
        "\n",
        "    "
      ],
      "metadata": {
        "id": "kVrI84uPcIuH"
      },
      "execution_count": 10,
      "outputs": []
    },
    {
      "cell_type": "code",
      "source": [
        "def fit(model, loader_train):\n",
        "    optimizer = torch.optim.Adam(model.parameters()) # use Adam optimizer \n",
        "    error = nn.CrossEntropyLoss() # use Cross entropy \n",
        "    EPOCHS = 40 # 에포크 \n",
        "    model.train() # 모델 학습 \n",
        "    for epoch in range(EPOCHS): # EPOCHS 만큼 반복 \n",
        "        correct = 0 # 초기화 \n",
        "        for batch_idx, (X_batch, y_batch) in enumerate(loader_train): # loader_train 순회 \n",
        "            var_X_batch = Variable(X_batch).float() # PyTorch Tensor의 Wrapper\n",
        "            var_y_batch = Variable(y_batch)  # PyTorch Tensor의 Wrapper\n",
        "            optimizer.zero_grad() # 그레디언트 초기화 \n",
        "            output = model(var_X_batch)  # 모델 적용 \n",
        "            loss = error(output, var_y_batch) # 손실\n",
        "            loss.backward() # 손실 역전파 \n",
        "            optimizer.step() # 역전파 단계에서 수집된 변화도로 매개변수를 조정\n",
        "            predicted = torch.max(output.data, 1)[1]   #  return max_indices\n",
        "            correct += (predicted == var_y_batch).sum() # correct count \n",
        "            if batch_idx % 200 == 0:\n",
        "                print('에포크 : {} [{}/{} ({:.0f}%)]\\t 손실함수 : {:.6f}\\t Accuracy:{:.3f}%'\\\n",
        "                      .format(epoch, batch_idx*len(X_batch),len(loader_train),\\\n",
        "                        100.*batch_idx / len(loader_train),loss.data,correct*100./ (BATCH_SIZE*(batch_idx + 1))))\n"
      ],
      "metadata": {
        "id": "dwXs-ffUwLnG"
      },
      "execution_count": 11,
      "outputs": []
    },
    {
      "cell_type": "code",
      "source": [
        "def evaluate(model): # 모델 평가 \n",
        "    correct = 0\n",
        "    for test_imgs, test_labels in loader_test:\n",
        "        test_imgs = Variable(test_imgs).float()\n",
        "        output = model(test_imgs)\n",
        "        # 가장 높은 값을 가진 인덱스:  예측값\n",
        "        predicted = torch.max(output,1)[1]\n",
        "        correct += (predicted == test_labels).sum()\n",
        "    print(\"테스트 데이터 정확도: {:.3f}% \".format(float(correct) / (len(loader_test)*BATCH_SIZE)))\n",
        "\n",
        "cnn = CNN()\n",
        "evaluate(cnn)\n",
        "fit(cnn, loader_train)\n",
        "cnn.eval()\n",
        "evaluate(cnn)\n",
        "index = 10\n",
        "data = X_test[index].view(-1, 1, 28, 28).float()\n",
        "output = cnn(data)\n",
        "print('{} 번째 학습데이터의 테스트 결과 : {}'.format(index,output))\n",
        "_, predicted = torch.max(output, 1)\n",
        "print('{} 번째 데이터의 예측측 : {}'.format(index, predicted.numpy()))\n",
        "print('실제 레이블 : {}'.format(y_test[index]))"
      ],
      "metadata": {
        "colab": {
          "base_uri": "https://localhost:8080/"
        },
        "id": "U4FoSAdDx9_Y",
        "outputId": "962e0ced-257a-4bf4-abe3-e5e769334543"
      },
      "execution_count": 12,
      "outputs": [
        {
          "output_type": "stream",
          "name": "stdout",
          "text": [
            "테스트 데이터 정확도: 0.095% \n",
            "에포크 : 0 [0/938 (0%)]\t 손실함수 : 18.919416\t Accuracy:7.812%\n",
            "에포크 : 0 [12800/938 (21%)]\t 손실함수 : 0.907760\t Accuracy:46.284%\n",
            "에포크 : 0 [25600/938 (43%)]\t 손실함수 : 0.800652\t Accuracy:61.943%\n",
            "에포크 : 0 [38400/938 (64%)]\t 손실함수 : 0.635431\t Accuracy:69.340%\n",
            "에포크 : 0 [51200/938 (85%)]\t 손실함수 : 0.570815\t Accuracy:73.551%\n",
            "에포크 : 1 [0/938 (0%)]\t 손실함수 : 0.135009\t Accuracy:95.312%\n",
            "에포크 : 1 [12800/938 (21%)]\t 손실함수 : 0.406122\t Accuracy:89.342%\n",
            "에포크 : 1 [25600/938 (43%)]\t 손실함수 : 0.295560\t Accuracy:89.760%\n",
            "에포크 : 1 [38400/938 (64%)]\t 손실함수 : 0.169738\t Accuracy:90.183%\n",
            "에포크 : 1 [51200/938 (85%)]\t 손실함수 : 0.296769\t Accuracy:90.475%\n",
            "에포크 : 2 [0/938 (0%)]\t 손실함수 : 0.141680\t Accuracy:93.750%\n",
            "에포크 : 2 [12800/938 (21%)]\t 손실함수 : 0.455063\t Accuracy:92.498%\n",
            "에포크 : 2 [25600/938 (43%)]\t 손실함수 : 0.428901\t Accuracy:92.511%\n",
            "에포크 : 2 [38400/938 (64%)]\t 손실함수 : 0.208003\t Accuracy:92.614%\n",
            "에포크 : 2 [51200/938 (85%)]\t 손실함수 : 0.143668\t Accuracy:92.712%\n",
            "에포크 : 3 [0/938 (0%)]\t 손실함수 : 0.189170\t Accuracy:95.312%\n",
            "에포크 : 3 [12800/938 (21%)]\t 손실함수 : 0.221188\t Accuracy:93.680%\n",
            "에포크 : 3 [25600/938 (43%)]\t 손실함수 : 0.174082\t Accuracy:93.754%\n",
            "에포크 : 3 [38400/938 (64%)]\t 손실함수 : 0.180429\t Accuracy:93.638%\n",
            "에포크 : 3 [51200/938 (85%)]\t 손실함수 : 0.231993\t Accuracy:93.670%\n",
            "에포크 : 4 [0/938 (0%)]\t 손실함수 : 0.035257\t Accuracy:100.000%\n",
            "에포크 : 4 [12800/938 (21%)]\t 손실함수 : 0.550448\t Accuracy:93.975%\n",
            "에포크 : 4 [25600/938 (43%)]\t 손실함수 : 0.297249\t Accuracy:93.957%\n",
            "에포크 : 4 [38400/938 (64%)]\t 손실함수 : 0.068362\t Accuracy:94.137%\n",
            "에포크 : 4 [51200/938 (85%)]\t 손실함수 : 0.066758\t Accuracy:94.177%\n",
            "에포크 : 5 [0/938 (0%)]\t 손실함수 : 0.036391\t Accuracy:98.438%\n",
            "에포크 : 5 [12800/938 (21%)]\t 손실함수 : 0.393285\t Accuracy:94.349%\n",
            "에포크 : 5 [25600/938 (43%)]\t 손실함수 : 0.112241\t Accuracy:94.451%\n",
            "에포크 : 5 [38400/938 (64%)]\t 손실함수 : 0.101377\t Accuracy:94.452%\n",
            "에포크 : 5 [51200/938 (85%)]\t 손실함수 : 0.183819\t Accuracy:94.540%\n",
            "에포크 : 6 [0/938 (0%)]\t 손실함수 : 0.048452\t Accuracy:96.875%\n",
            "에포크 : 6 [12800/938 (21%)]\t 손실함수 : 0.385375\t Accuracy:94.442%\n",
            "에포크 : 6 [25600/938 (43%)]\t 손실함수 : 0.308686\t Accuracy:94.549%\n",
            "에포크 : 6 [38400/938 (64%)]\t 손실함수 : 0.095288\t Accuracy:94.743%\n",
            "에포크 : 6 [51200/938 (85%)]\t 손실함수 : 0.146077\t Accuracy:94.817%\n",
            "에포크 : 7 [0/938 (0%)]\t 손실함수 : 0.102365\t Accuracy:98.438%\n",
            "에포크 : 7 [12800/938 (21%)]\t 손실함수 : 0.357947\t Accuracy:95.118%\n",
            "에포크 : 7 [25600/938 (43%)]\t 손실함수 : 0.131941\t Accuracy:94.783%\n",
            "에포크 : 7 [38400/938 (64%)]\t 손실함수 : 0.120463\t Accuracy:94.782%\n",
            "에포크 : 7 [51200/938 (85%)]\t 손실함수 : 0.176636\t Accuracy:94.837%\n",
            "에포크 : 8 [0/938 (0%)]\t 손실함수 : 0.068362\t Accuracy:96.875%\n",
            "에포크 : 8 [12800/938 (21%)]\t 손실함수 : 0.073883\t Accuracy:95.188%\n",
            "에포크 : 8 [25600/938 (43%)]\t 손실함수 : 0.430036\t Accuracy:95.009%\n",
            "에포크 : 8 [38400/938 (64%)]\t 손실함수 : 0.111239\t Accuracy:95.092%\n",
            "에포크 : 8 [51200/938 (85%)]\t 손실함수 : 0.100649\t Accuracy:95.034%\n",
            "에포크 : 9 [0/938 (0%)]\t 손실함수 : 0.207500\t Accuracy:93.750%\n",
            "에포크 : 9 [12800/938 (21%)]\t 손실함수 : 0.310838\t Accuracy:95.320%\n",
            "에포크 : 9 [25600/938 (43%)]\t 손실함수 : 0.184429\t Accuracy:95.297%\n",
            "에포크 : 9 [38400/938 (64%)]\t 손실함수 : 0.085373\t Accuracy:95.266%\n",
            "에포크 : 9 [51200/938 (85%)]\t 손실함수 : 0.094599\t Accuracy:95.359%\n",
            "에포크 : 10 [0/938 (0%)]\t 손실함수 : 0.056012\t Accuracy:96.875%\n",
            "에포크 : 10 [12800/938 (21%)]\t 손실함수 : 0.434583\t Accuracy:95.227%\n",
            "에포크 : 10 [25600/938 (43%)]\t 손실함수 : 0.145170\t Accuracy:95.036%\n",
            "에포크 : 10 [38400/938 (64%)]\t 손실함수 : 0.058265\t Accuracy:95.141%\n",
            "에포크 : 10 [51200/938 (85%)]\t 손실함수 : 0.171865\t Accuracy:95.270%\n",
            "에포크 : 11 [0/938 (0%)]\t 손실함수 : 0.050478\t Accuracy:98.438%\n",
            "에포크 : 11 [12800/938 (21%)]\t 손실함수 : 0.295730\t Accuracy:95.149%\n",
            "에포크 : 11 [25600/938 (43%)]\t 손실함수 : 0.162854\t Accuracy:95.270%\n",
            "에포크 : 11 [38400/938 (64%)]\t 손실함수 : 0.085705\t Accuracy:95.253%\n",
            "에포크 : 11 [51200/938 (85%)]\t 손실함수 : 0.091054\t Accuracy:95.346%\n",
            "에포크 : 12 [0/938 (0%)]\t 손실함수 : 0.129508\t Accuracy:95.312%\n",
            "에포크 : 12 [12800/938 (21%)]\t 손실함수 : 0.199570\t Accuracy:95.546%\n",
            "에포크 : 12 [25600/938 (43%)]\t 손실함수 : 0.048268\t Accuracy:95.531%\n",
            "에포크 : 12 [38400/938 (64%)]\t 손실함수 : 0.101907\t Accuracy:95.518%\n",
            "에포크 : 12 [51200/938 (85%)]\t 손실함수 : 0.296211\t Accuracy:95.547%\n",
            "에포크 : 13 [0/938 (0%)]\t 손실함수 : 0.062312\t Accuracy:98.438%\n",
            "에포크 : 13 [12800/938 (21%)]\t 손실함수 : 0.237303\t Accuracy:95.546%\n",
            "에포크 : 13 [25600/938 (43%)]\t 손실함수 : 0.249436\t Accuracy:95.558%\n",
            "에포크 : 13 [38400/938 (64%)]\t 손실함수 : 0.163752\t Accuracy:95.489%\n",
            "에포크 : 13 [51200/938 (85%)]\t 손실함수 : 0.161918\t Accuracy:95.533%\n",
            "에포크 : 14 [0/938 (0%)]\t 손실함수 : 0.097841\t Accuracy:96.875%\n",
            "에포크 : 14 [12800/938 (21%)]\t 손실함수 : 0.259103\t Accuracy:95.375%\n",
            "에포크 : 14 [25600/938 (43%)]\t 손실함수 : 0.179642\t Accuracy:95.383%\n",
            "에포크 : 14 [38400/938 (64%)]\t 손실함수 : 0.061138\t Accuracy:95.479%\n",
            "에포크 : 14 [51200/938 (85%)]\t 손실함수 : 0.187209\t Accuracy:95.572%\n",
            "에포크 : 15 [0/938 (0%)]\t 손실함수 : 0.122491\t Accuracy:95.312%\n",
            "에포크 : 15 [12800/938 (21%)]\t 손실함수 : 0.447137\t Accuracy:95.546%\n",
            "에포크 : 15 [25600/938 (43%)]\t 손실함수 : 0.199940\t Accuracy:95.589%\n",
            "에포크 : 15 [38400/938 (64%)]\t 손실함수 : 0.091545\t Accuracy:95.611%\n",
            "에포크 : 15 [51200/938 (85%)]\t 손실함수 : 0.084029\t Accuracy:95.634%\n",
            "에포크 : 16 [0/938 (0%)]\t 손실함수 : 0.161550\t Accuracy:96.875%\n",
            "에포크 : 16 [12800/938 (21%)]\t 손실함수 : 0.187049\t Accuracy:95.763%\n",
            "에포크 : 16 [25600/938 (43%)]\t 손실함수 : 0.271120\t Accuracy:95.613%\n",
            "에포크 : 16 [38400/938 (64%)]\t 손실함수 : 0.131886\t Accuracy:95.627%\n",
            "에포크 : 16 [51200/938 (85%)]\t 손실함수 : 0.119819\t Accuracy:95.601%\n",
            "에포크 : 17 [0/938 (0%)]\t 손실함수 : 0.058812\t Accuracy:98.438%\n",
            "에포크 : 17 [12800/938 (21%)]\t 손실함수 : 0.276473\t Accuracy:95.756%\n",
            "에포크 : 17 [25600/938 (43%)]\t 손실함수 : 0.093979\t Accuracy:95.550%\n",
            "에포크 : 17 [38400/938 (64%)]\t 손실함수 : 0.037747\t Accuracy:95.650%\n",
            "에포크 : 17 [51200/938 (85%)]\t 손실함수 : 0.195289\t Accuracy:95.691%\n",
            "에포크 : 18 [0/938 (0%)]\t 손실함수 : 0.104008\t Accuracy:96.875%\n",
            "에포크 : 18 [12800/938 (21%)]\t 손실함수 : 0.496762\t Accuracy:95.763%\n",
            "에포크 : 18 [25600/938 (43%)]\t 손실함수 : 0.066057\t Accuracy:95.710%\n",
            "에포크 : 18 [38400/938 (64%)]\t 손실함수 : 0.100356\t Accuracy:95.609%\n",
            "에포크 : 18 [51200/938 (85%)]\t 손실함수 : 0.116251\t Accuracy:95.677%\n",
            "에포크 : 19 [0/938 (0%)]\t 손실함수 : 0.099178\t Accuracy:96.875%\n",
            "에포크 : 19 [12800/938 (21%)]\t 손실함수 : 0.181441\t Accuracy:96.004%\n",
            "에포크 : 19 [25600/938 (43%)]\t 손실함수 : 0.094920\t Accuracy:95.761%\n",
            "에포크 : 19 [38400/938 (64%)]\t 손실함수 : 0.051807\t Accuracy:95.804%\n",
            "에포크 : 19 [51200/938 (85%)]\t 손실함수 : 0.122470\t Accuracy:95.798%\n",
            "에포크 : 20 [0/938 (0%)]\t 손실함수 : 0.068812\t Accuracy:96.875%\n",
            "에포크 : 20 [12800/938 (21%)]\t 손실함수 : 0.129886\t Accuracy:95.211%\n",
            "에포크 : 20 [25600/938 (43%)]\t 손실함수 : 0.439251\t Accuracy:95.324%\n",
            "에포크 : 20 [38400/938 (64%)]\t 손실함수 : 0.037953\t Accuracy:95.463%\n",
            "에포크 : 20 [51200/938 (85%)]\t 손실함수 : 0.096268\t Accuracy:95.521%\n",
            "에포크 : 21 [0/938 (0%)]\t 손실함수 : 0.018492\t Accuracy:100.000%\n",
            "에포크 : 21 [12800/938 (21%)]\t 손실함수 : 0.333962\t Accuracy:95.561%\n",
            "에포크 : 21 [25600/938 (43%)]\t 손실함수 : 0.124460\t Accuracy:95.515%\n",
            "에포크 : 21 [38400/938 (64%)]\t 손실함수 : 0.105544\t Accuracy:95.596%\n",
            "에포크 : 21 [51200/938 (85%)]\t 손실함수 : 0.111841\t Accuracy:95.625%\n",
            "에포크 : 22 [0/938 (0%)]\t 손실함수 : 0.084960\t Accuracy:96.875%\n",
            "에포크 : 22 [12800/938 (21%)]\t 손실함수 : 0.423182\t Accuracy:95.826%\n",
            "에포크 : 22 [25600/938 (43%)]\t 손실함수 : 0.170438\t Accuracy:95.679%\n",
            "에포크 : 22 [38400/938 (64%)]\t 손실함수 : 0.107276\t Accuracy:95.752%\n",
            "에포크 : 22 [51200/938 (85%)]\t 손실함수 : 0.228737\t Accuracy:95.767%\n",
            "에포크 : 23 [0/938 (0%)]\t 손실함수 : 0.009163\t Accuracy:100.000%\n",
            "에포크 : 23 [12800/938 (21%)]\t 손실함수 : 0.220698\t Accuracy:95.662%\n",
            "에포크 : 23 [25600/938 (43%)]\t 손실함수 : 0.113431\t Accuracy:95.663%\n",
            "에포크 : 23 [38400/938 (64%)]\t 손실함수 : 0.042569\t Accuracy:95.749%\n",
            "에포크 : 23 [51200/938 (85%)]\t 손실함수 : 0.089853\t Accuracy:95.816%\n",
            "에포크 : 24 [0/938 (0%)]\t 손실함수 : 0.071329\t Accuracy:96.875%\n",
            "에포크 : 24 [12800/938 (21%)]\t 손실함수 : 0.181601\t Accuracy:95.903%\n",
            "에포크 : 24 [25600/938 (43%)]\t 손실함수 : 0.083015\t Accuracy:95.858%\n",
            "에포크 : 24 [38400/938 (64%)]\t 손실함수 : 0.058293\t Accuracy:95.817%\n",
            "에포크 : 24 [51200/938 (85%)]\t 손실함수 : 0.154073\t Accuracy:95.792%\n",
            "에포크 : 25 [0/938 (0%)]\t 손실함수 : 0.081375\t Accuracy:96.875%\n",
            "에포크 : 25 [12800/938 (21%)]\t 손실함수 : 0.126858\t Accuracy:95.826%\n",
            "에포크 : 25 [25600/938 (43%)]\t 손실함수 : 0.178805\t Accuracy:95.819%\n",
            "에포크 : 25 [38400/938 (64%)]\t 손실함수 : 0.100951\t Accuracy:95.879%\n",
            "에포크 : 25 [51200/938 (85%)]\t 손실함수 : 0.180771\t Accuracy:96.023%\n",
            "에포크 : 26 [0/938 (0%)]\t 손실함수 : 0.031750\t Accuracy:100.000%\n",
            "에포크 : 26 [12800/938 (21%)]\t 손실함수 : 0.318251\t Accuracy:95.670%\n",
            "에포크 : 26 [25600/938 (43%)]\t 손실함수 : 0.093865\t Accuracy:95.768%\n",
            "에포크 : 26 [38400/938 (64%)]\t 손실함수 : 0.247318\t Accuracy:95.762%\n",
            "에포크 : 26 [51200/938 (85%)]\t 손실함수 : 0.143465\t Accuracy:95.787%\n",
            "에포크 : 27 [0/938 (0%)]\t 손실함수 : 0.103730\t Accuracy:95.312%\n",
            "에포크 : 27 [12800/938 (21%)]\t 손실함수 : 0.222976\t Accuracy:95.903%\n",
            "에포크 : 27 [25600/938 (43%)]\t 손실함수 : 0.135651\t Accuracy:95.866%\n",
            "에포크 : 27 [38400/938 (64%)]\t 손실함수 : 0.133449\t Accuracy:95.903%\n",
            "에포크 : 27 [51200/938 (85%)]\t 손실함수 : 0.155822\t Accuracy:95.913%\n",
            "에포크 : 28 [0/938 (0%)]\t 손실함수 : 0.044712\t Accuracy:98.438%\n",
            "에포크 : 28 [12800/938 (21%)]\t 손실함수 : 0.465980\t Accuracy:95.787%\n",
            "에포크 : 28 [25600/938 (43%)]\t 손실함수 : 0.117568\t Accuracy:95.745%\n",
            "에포크 : 28 [38400/938 (64%)]\t 손실함수 : 0.051060\t Accuracy:95.788%\n",
            "에포크 : 28 [51200/938 (85%)]\t 손실함수 : 0.212351\t Accuracy:95.847%\n",
            "에포크 : 29 [0/938 (0%)]\t 손실함수 : 0.020834\t Accuracy:100.000%\n",
            "에포크 : 29 [12800/938 (21%)]\t 손실함수 : 0.261507\t Accuracy:95.911%\n",
            "에포크 : 29 [25600/938 (43%)]\t 손실함수 : 0.103010\t Accuracy:95.827%\n",
            "에포크 : 29 [38400/938 (64%)]\t 손실함수 : 0.163515\t Accuracy:95.843%\n",
            "에포크 : 29 [51200/938 (85%)]\t 손실함수 : 0.332530\t Accuracy:95.880%\n",
            "에포크 : 30 [0/938 (0%)]\t 손실함수 : 0.172610\t Accuracy:92.188%\n",
            "에포크 : 30 [12800/938 (21%)]\t 손실함수 : 0.482338\t Accuracy:95.670%\n",
            "에포크 : 30 [25600/938 (43%)]\t 손실함수 : 0.102983\t Accuracy:95.651%\n",
            "에포크 : 30 [38400/938 (64%)]\t 손실함수 : 0.058345\t Accuracy:95.723%\n",
            "에포크 : 30 [51200/938 (85%)]\t 손실함수 : 0.190834\t Accuracy:95.876%\n",
            "에포크 : 31 [0/938 (0%)]\t 손실함수 : 0.059856\t Accuracy:96.875%\n",
            "에포크 : 31 [12800/938 (21%)]\t 손실함수 : 0.179765\t Accuracy:95.958%\n",
            "에포크 : 31 [25600/938 (43%)]\t 손실함수 : 0.178435\t Accuracy:95.901%\n",
            "에포크 : 31 [38400/938 (64%)]\t 손실함수 : 0.082657\t Accuracy:96.007%\n",
            "에포크 : 31 [51200/938 (85%)]\t 손실함수 : 0.097614\t Accuracy:96.021%\n",
            "에포크 : 32 [0/938 (0%)]\t 손실함수 : 0.087734\t Accuracy:96.875%\n",
            "에포크 : 32 [12800/938 (21%)]\t 손실함수 : 0.291801\t Accuracy:96.137%\n",
            "에포크 : 32 [25600/938 (43%)]\t 손실함수 : 0.098265\t Accuracy:96.033%\n",
            "에포크 : 32 [38400/938 (64%)]\t 손실함수 : 0.056626\t Accuracy:96.007%\n",
            "에포크 : 32 [51200/938 (85%)]\t 손실함수 : 0.172044\t Accuracy:96.089%\n",
            "에포크 : 33 [0/938 (0%)]\t 손실함수 : 0.079863\t Accuracy:96.875%\n",
            "에포크 : 33 [12800/938 (21%)]\t 손실함수 : 0.288713\t Accuracy:96.168%\n",
            "에포크 : 33 [25600/938 (43%)]\t 손실함수 : 0.057338\t Accuracy:95.932%\n",
            "에포크 : 33 [38400/938 (64%)]\t 손실함수 : 0.094636\t Accuracy:95.923%\n",
            "에포크 : 33 [51200/938 (85%)]\t 손실함수 : 0.116158\t Accuracy:95.884%\n",
            "에포크 : 34 [0/938 (0%)]\t 손실함수 : 0.157303\t Accuracy:96.875%\n",
            "에포크 : 34 [12800/938 (21%)]\t 손실함수 : 0.131635\t Accuracy:95.655%\n",
            "에포크 : 34 [25600/938 (43%)]\t 손실함수 : 0.284861\t Accuracy:95.831%\n",
            "에포크 : 34 [38400/938 (64%)]\t 손실함수 : 0.017686\t Accuracy:95.931%\n",
            "에포크 : 34 [51200/938 (85%)]\t 손실함수 : 0.095355\t Accuracy:95.968%\n",
            "에포크 : 35 [0/938 (0%)]\t 손실함수 : 0.096523\t Accuracy:96.875%\n",
            "에포크 : 35 [12800/938 (21%)]\t 손실함수 : 0.209320\t Accuracy:95.989%\n",
            "에포크 : 35 [25600/938 (43%)]\t 손실함수 : 0.113839\t Accuracy:95.823%\n",
            "에포크 : 35 [38400/938 (64%)]\t 손실함수 : 0.080142\t Accuracy:95.957%\n",
            "에포크 : 35 [51200/938 (85%)]\t 손실함수 : 0.267504\t Accuracy:95.950%\n",
            "에포크 : 36 [0/938 (0%)]\t 손실함수 : 0.038099\t Accuracy:98.438%\n",
            "에포크 : 36 [12800/938 (21%)]\t 손실함수 : 0.330016\t Accuracy:95.833%\n",
            "에포크 : 36 [25600/938 (43%)]\t 손실함수 : 0.211215\t Accuracy:95.874%\n",
            "에포크 : 36 [38400/938 (64%)]\t 손실함수 : 0.055740\t Accuracy:95.853%\n",
            "에포크 : 36 [51200/938 (85%)]\t 손실함수 : 0.023247\t Accuracy:95.822%\n",
            "에포크 : 37 [0/938 (0%)]\t 손실함수 : 0.046221\t Accuracy:98.438%\n",
            "에포크 : 37 [12800/938 (21%)]\t 손실함수 : 0.287409\t Accuracy:96.082%\n",
            "에포크 : 37 [25600/938 (43%)]\t 손실함수 : 0.346338\t Accuracy:95.948%\n",
            "에포크 : 37 [38400/938 (64%)]\t 손실함수 : 0.046465\t Accuracy:96.131%\n",
            "에포크 : 37 [51200/938 (85%)]\t 손실함수 : 0.120116\t Accuracy:96.155%\n",
            "에포크 : 38 [0/938 (0%)]\t 손실함수 : 0.171346\t Accuracy:93.750%\n",
            "에포크 : 38 [12800/938 (21%)]\t 손실함수 : 0.522807\t Accuracy:95.585%\n",
            "에포크 : 38 [25600/938 (43%)]\t 손실함수 : 0.125230\t Accuracy:95.776%\n",
            "에포크 : 38 [38400/938 (64%)]\t 손실함수 : 0.026497\t Accuracy:95.903%\n",
            "에포크 : 38 [51200/938 (85%)]\t 손실함수 : 0.163283\t Accuracy:95.946%\n",
            "에포크 : 39 [0/938 (0%)]\t 손실함수 : 0.023924\t Accuracy:100.000%\n",
            "에포크 : 39 [12800/938 (21%)]\t 손실함수 : 0.220487\t Accuracy:95.958%\n",
            "에포크 : 39 [25600/938 (43%)]\t 손실함수 : 0.169479\t Accuracy:95.729%\n",
            "에포크 : 39 [38400/938 (64%)]\t 손실함수 : 0.043503\t Accuracy:95.848%\n",
            "에포크 : 39 [51200/938 (85%)]\t 손실함수 : 0.100365\t Accuracy:95.931%\n",
            "테스트 데이터 정확도: 0.982% \n",
            "10 번째 학습데이터의 테스트 결과 : tensor([[-2.6765e+01, -5.9605e-07, -1.8309e+01, -3.0458e+01, -1.4305e+01,\n",
            "         -2.8446e+01, -2.7299e+01, -1.9498e+01, -2.1167e+01, -2.2153e+01]],\n",
            "       grad_fn=<LogSoftmaxBackward0>)\n",
            "10 번째 데이터의 예측측 : [1]\n",
            "실제 레이블 : 1\n"
          ]
        }
      ]
    },
    {
      "cell_type": "code",
      "source": [],
      "metadata": {
        "id": "wZ5FtxPuy61U"
      },
      "execution_count": 12,
      "outputs": []
    }
  ]
}