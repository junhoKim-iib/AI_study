{
 "cells": [
  {
   "cell_type": "code",
   "execution_count": 1,
   "metadata": {
    "collapsed": true,
    "pycharm": {
     "name": "#%%\n"
    }
   },
   "outputs": [],
   "source": [
    "'''이차 계획법'''\n",
    "from cvxopt import  matrix, solvers"
   ]
  },
  {
   "cell_type": "code",
   "execution_count": 3,
   "outputs": [],
   "source": [
    "'''\n",
    "# cvxopt.matrix(x[, size[, tc]])\n",
    "# create a dense matrix.\n",
    "# The arguments specify the values of the coefficients, the dimensions, and the type of the matrix\n",
    "## parameters :\n",
    "## x : can be a number, a sequence of numbers, a dense or sparse matrix, a one- or two-dimensional NumPy array, or a list of lists of matrices and numbers.\n",
    "## size :  is a tuple of length two with the matrix dimensions. The number of rows and/or the number of columns can be zero.\n",
    "## tc : stands for type code. The possible values are 'i', 'd', and 'z', for integer, real (double), and complex matrices, respectively.\n",
    "'''\n",
    "H = 2*matrix([[1., 0.], [0., 1.]])\n",
    "f = matrix([0.0, 0.0])\n",
    "A = matrix([[0.0, 0.0], [0.0, -1.0]])\n",
    "a = matrix([0.0, -3/4.0])\n",
    "B = matrix([1.0, 1.0], (1,2))\n",
    "b = matrix(1.0)"
   ],
   "metadata": {
    "collapsed": false,
    "pycharm": {
     "name": "#%%\n"
    }
   }
  },
  {
   "cell_type": "code",
   "execution_count": 5,
   "outputs": [
    {
     "name": "stdout",
     "output_type": "stream",
     "text": [
      "     pcost       dcost       gap    pres   dres\n",
      " 0:  5.0500e-01  7.4500e-01  2e+00  2e+00  1e+00\n",
      " 1:  6.5416e-01  6.2320e-01  6e-02  2e-02  1e-02\n",
      " 2:  6.2605e-01  6.2500e-01  1e-03  2e-04  1e-04\n",
      " 3:  6.2501e-01  6.2500e-01  1e-05  2e-06  1e-06\n",
      " 4:  6.2500e-01  6.2500e-01  1e-07  2e-08  1e-08\n",
      "Optimal solution found.\n",
      "해\n",
      " x_1 =  0.2499998949427826\n",
      " x_2 =  0.7500001050572175\n"
     ]
    }
   ],
   "source": [
    "'''\n",
    "# cvxopt.solvers.qp(P, q[, G, h[, A, b[, solver[, initvals]]]])\n",
    "# The function qp is an interface to coneqp for quadratic programs\n",
    "## parameters :\n",
    "## P : P is a square dense or sparse real matrix, representing a positive semidefinite symmetric matrix in 'L' storage, i.e., only the lower triangular part of P is referenced\n",
    "## q : q is a real single-column dense matrix.\n",
    "## h, b : The arguments h and b are real single-column dense matrices.\n",
    "## G, A : G and A are real dense or sparse matrices.\n",
    "'''\n",
    "sol = solvers.qp(H, f, A, a, B, b)  # Solve using quadratic programming\n",
    "print('해\\n', 'x_1 = ', sol['x'][0] )\n",
    "print(' x_2 = ', sol['x'][1])"
   ],
   "metadata": {
    "collapsed": false,
    "pycharm": {
     "name": "#%%\n"
    }
   }
  },
  {
   "cell_type": "code",
   "execution_count": null,
   "outputs": [],
   "source": [],
   "metadata": {
    "collapsed": false,
    "pycharm": {
     "name": "#%%\n"
    }
   }
  }
 ],
 "metadata": {
  "kernelspec": {
   "display_name": "Python 3",
   "language": "python",
   "name": "python3"
  },
  "language_info": {
   "codemirror_mode": {
    "name": "ipython",
    "version": 2
   },
   "file_extension": ".py",
   "mimetype": "text/x-python",
   "name": "python",
   "nbconvert_exporter": "python",
   "pygments_lexer": "ipython2",
   "version": "2.7.6"
  }
 },
 "nbformat": 4,
 "nbformat_minor": 0
}