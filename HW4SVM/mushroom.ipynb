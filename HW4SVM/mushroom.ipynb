{
 "cells": [
  {
   "cell_type": "code",
   "execution_count": 1,
   "metadata": {
    "collapsed": true
   },
   "outputs": [],
   "source": [
    "'''\n",
    "버섯 데이터 분류\n",
    "'''\n",
    "import pandas as pd\n",
    "from sklearn.model_selection import train_test_split\n",
    "from sklearn.svm import SVC"
   ]
  },
  {
   "cell_type": "code",
   "execution_count": 3,
   "outputs": [
    {
     "name": "stdout",
     "output_type": "stream",
     "text": [
      "      0          1            2          3        4     5                6   \\\n",
      "0  class  cap-shape  cap-surface  cap-color  bruises  odor  gill-attachment   \n",
      "1      p          x            s          n        t     p                f   \n",
      "2      e          x            s          y        t     a                f   \n",
      "3      e          b            s          w        t     l                f   \n",
      "\n",
      "             7          8           9   ...                        13  \\\n",
      "0  gill-spacing  gill-size  gill-color  ...  stalk-surface-below-ring   \n",
      "1             c          n           k  ...                         s   \n",
      "2             c          b           k  ...                         s   \n",
      "3             c          b           n  ...                         s   \n",
      "\n",
      "                       14                      15         16          17  \\\n",
      "0  stalk-color-above-ring  stalk-color-below-ring  veil-type  veil-color   \n",
      "1                       w                       w          p           w   \n",
      "2                       w                       w          p           w   \n",
      "3                       w                       w          p           w   \n",
      "\n",
      "            18         19                 20          21       22  \n",
      "0  ring-number  ring-type  spore-print-color  population  habitat  \n",
      "1            o          p                  k           s        u  \n",
      "2            o          p                  n           n        g  \n",
      "3            o          p                  n           n        m  \n",
      "\n",
      "[4 rows x 23 columns]\n",
      "\n",
      "속성: \n",
      " [[120, 115, 110, 116, 112, 102, 99, 110, 107, 101, 101, 115, 115, 119, 119, 112, 119, 111, 112, 107, 115, 117], [120, 115, 121, 116, 97, 102, 99, 98, 107, 101, 99, 115, 115, 119, 119, 112, 119, 111, 112, 110, 110, 103], [98, 115, 119, 116, 108, 102, 99, 98, 110, 101, 99, 115, 115, 119, 119, 112, 119, 111, 112, 110, 110, 109]]\n",
      "\n",
      "부류: \n",
      " ['p', 'e', 'e']\n",
      "학습 데이터 정확도 :  0.994748071557525\n",
      "테스트 데이터 정확도 :  0.9911373707533235\n"
     ]
    }
   ],
   "source": [
    "# data read\n",
    "mushroom = pd.read_csv('mushrooms.csv', header=None)\n",
    "print(mushroom.head(4))\n",
    "\n",
    "X = []\n",
    "Y = []\n",
    "for idx, row in mushroom[1:].iterrows():\n",
    "    Y.append(row.loc[0])\n",
    "    row_x = []\n",
    "    for v in row.loc[1:]:\n",
    "        row_x.append(ord(v))\n",
    "    X.append(row_x)\n",
    "\n",
    "print('\\n속성: \\n', X[0:3])\n",
    "print('\\n부류: \\n', Y[0:3])\n",
    "x_train, x_test, y_train, y_test = train_test_split(X, Y, test_size=0.25)\n",
    "\n",
    "\n",
    "'''\n",
    "class sklearn.svm.SVC\n",
    "\n",
    "C-Support Vector Classification.\n",
    "\n",
    "Parameters :\n",
    "\n",
    "# C: float, default=1.0\n",
    "Regularization parameter. The strength of the regularization is inversely proportional to C. Must be strictly positive. The penalty is a squared l2 penalty.\n",
    "\n",
    "# kernel: {‘linear’, ‘poly’, ‘rbf’, ‘sigmoid’, ‘precomputed’} or callable, default=’rbf’\n",
    "Specifies the kernel type to be used in the algorithm.\n",
    "\n",
    "etc...\n",
    "'''\n",
    "svc = SVC() # 디폴트 커널 rbf 사용\n",
    "svc.fit(x_train, y_train)\n",
    "\n",
    "print('학습 데이터 정확도 : ', svc.score(x_train, y_train))\n",
    "print('테스트 데이터 정확도 : ', svc.score(x_test, y_test))\n",
    "\n"
   ],
   "metadata": {
    "collapsed": false,
    "pycharm": {
     "name": "#%%\n"
    }
   }
  }
 ],
 "metadata": {
  "kernelspec": {
   "display_name": "Python 3",
   "language": "python",
   "name": "python3"
  },
  "language_info": {
   "codemirror_mode": {
    "name": "ipython",
    "version": 2
   },
   "file_extension": ".py",
   "mimetype": "text/x-python",
   "name": "python",
   "nbconvert_exporter": "python",
   "pygments_lexer": "ipython2",
   "version": "2.7.6"
  }
 },
 "nbformat": 4,
 "nbformat_minor": 0
}