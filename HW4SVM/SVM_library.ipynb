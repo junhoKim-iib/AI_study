{
 "cells": [
  {
   "cell_type": "code",
   "execution_count": 7,
   "metadata": {
    "collapsed": true,
    "pycharm": {
     "name": "#%%\n"
    }
   },
   "outputs": [],
   "source": [
    "# 이차계획법 SVM 적용\n",
    "\n",
    "from cvxopt import matrix,solvers, mul, spmatrix\n",
    "import numpy as np"
   ]
  },
  {
   "cell_type": "code",
   "execution_count": 8,
   "outputs": [],
   "source": [
    "# 행렬 H 만들기\n",
    "x = np.array([[1., 6.], [1., 8.], [4., 11.], [5., 2.],[7., 6.], [9., 3.]])\n",
    "xt = np.transpose(x) # 전치\n",
    "XXt = np.dot(x, xt)\n",
    "y = np.array([[1.], [1.], [1.], [-1.], [-1.],[-1.]])\n",
    "yt = np.transpose(y)\n",
    "yyt = np.dot(y, yt)\n",
    "H = np.multiply(XXt, yyt)"
   ],
   "metadata": {
    "collapsed": false,
    "pycharm": {
     "name": "#%%\n"
    }
   }
  },
  {
   "cell_type": "code",
   "execution_count": 9,
   "outputs": [],
   "source": [
    "# 이차식 계획법의 표준식 파라미터\n",
    "H = matrix(H)\n",
    "f = matrix([-1., -1., -1., -1., -1., -1.], (6, 1), 'd')\n",
    "A = np.diag([-1.0, -1.0, -1.0, -1.0, -1.0, -1.0])\n",
    "A = matrix(A)\n",
    "a = matrix([0., 0., 0., 0., 0., 0.], (6, 1), 'd')\n",
    "B = matrix([1, 1, 1, 1, -1, -1], (1, 6), 'd')\n",
    "b = matrix(0.0, (1,1), 'd')\n"
   ],
   "metadata": {
    "collapsed": false,
    "pycharm": {
     "name": "#%%\n"
    }
   }
  },
  {
   "cell_type": "code",
   "execution_count": 10,
   "outputs": [
    {
     "name": "stdout",
     "output_type": "stream",
     "text": [
      "     pcost       dcost       gap    pres   dres\n",
      " 0: -4.6979e-01 -8.0031e-01  1e+01  3e+00  2e+00\n",
      " 1: -5.3845e-03 -2.7638e-01  6e-01  8e-02  4e-02\n",
      " 2: -5.0046e-02 -1.2976e-01  8e-02  4e-17  8e-16\n",
      " 3: -7.2725e-02 -7.7012e-02  4e-03  7e-18  5e-16\n",
      " 4: -7.5471e-02 -7.5580e-02  1e-04  2e-17  6e-16\n",
      " 5: -7.5555e-02 -7.5556e-02  1e-06  2e-17  6e-16\n",
      " 6: -7.5556e-02 -7.5556e-02  1e-08  2e-17  7e-16\n",
      "Optimal solution found.\n",
      "\n",
      " alpha_1 =  0.035555534604633766\n",
      " alpha_2 =  3.2816760981160616e-09\n",
      " alpha_3 =  0.04000000787723763\n",
      " alpha_4 =  6.788963198937651e-09\n",
      " alpha_5 =  0.0755555490869279\n",
      " alpha_6 =  3.4655828039455775e-09\n"
     ]
    }
   ],
   "source": [
    "'''\n",
    "# cvxopt.solvers.qp(P, q[, G, h[, A, b[, solver[, initvals]]]])\n",
    "# The function qp is an interface to coneqp for quadratic programs\n",
    "## parameters :\n",
    "## P : P is a square dense or sparse real matrix, representing a positive semidefinite symmetric matrix in 'L' storage, i.e., only the lower triangular part of P is referenced\n",
    "## q : q is a real single-column dense matrix.\n",
    "## h, b : The arguments h and b are real single-column dense matrices.\n",
    "## G, A : G and A are real dense or sparse matrices.\n",
    "'''\n",
    "sol = solvers.qp(H, f, A, a, B, b)\n",
    "print('\\n', 'alpha_1 = ', sol['x'][0])\n",
    "print(' alpha_2 = ', sol['x'][1])\n",
    "print(' alpha_3 = ', sol['x'][2])\n",
    "print(' alpha_4 = ', sol['x'][3])\n",
    "print(' alpha_5 = ', sol['x'][4])\n",
    "print(' alpha_6 = ', sol['x'][5])\n"
   ],
   "metadata": {
    "collapsed": false,
    "pycharm": {
     "name": "#%%\n"
    }
   }
  },
  {
   "cell_type": "code",
   "execution_count": null,
   "outputs": [],
   "source": [],
   "metadata": {
    "collapsed": false,
    "pycharm": {
     "name": "#%%\n"
    }
   }
  }
 ],
 "metadata": {
  "kernelspec": {
   "display_name": "Python 3",
   "language": "python",
   "name": "python3"
  },
  "language_info": {
   "codemirror_mode": {
    "name": "ipython",
    "version": 2
   },
   "file_extension": ".py",
   "mimetype": "text/x-python",
   "name": "python",
   "nbconvert_exporter": "python",
   "pygments_lexer": "ipython2",
   "version": "2.7.6"
  }
 },
 "nbformat": 4,
 "nbformat_minor": 0
}