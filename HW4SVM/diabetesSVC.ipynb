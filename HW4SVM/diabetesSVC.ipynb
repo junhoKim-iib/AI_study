{
 "cells": [
  {
   "cell_type": "code",
   "execution_count": 1,
   "metadata": {
    "collapsed": true,
    "pycharm": {
     "name": "#%%\n"
    }
   },
   "outputs": [],
   "source": [
    "'''\n",
    "당뇨병 판정\n",
    "'''\n",
    "import pandas as pd\n",
    "from sklearn.model_selection import train_test_split\n",
    "from sklearn.svm import SVC\n",
    "from sklearn.preprocessing import StandardScaler"
   ]
  },
  {
   "cell_type": "code",
   "execution_count": 3,
   "outputs": [
    {
     "name": "stdout",
     "output_type": "stream",
     "text": [
      "             0        1              2              3        4     5  \\\n",
      "0  Pregnancies  Glucose  BloodPressure  SkinThickness  Insulin   BMI   \n",
      "1            6      148             72             35        0  33.6   \n",
      "2            1       85             66             29        0  26.6   \n",
      "3            8      183             64              0        0  23.3   \n",
      "4            1       89             66             23       94  28.1   \n",
      "\n",
      "                          6    7        8  \n",
      "0  DiabetesPedigreeFunction  Age  Outcome  \n",
      "1                     0.627   50        1  \n",
      "2                     0.351   31        0  \n",
      "3                     0.672   32        1  \n",
      "4                     0.167   21        0  \n"
     ]
    }
   ],
   "source": [
    "# data read\n",
    "pdiabetes = pd.read_csv('diabetes.csv', header=None)\n",
    "print(pdiabetes[0:5])"
   ],
   "metadata": {
    "collapsed": false,
    "pycharm": {
     "name": "#%%\n"
    }
   }
  },
  {
   "cell_type": "code",
   "execution_count": 6,
   "outputs": [
    {
     "name": "stdout",
     "output_type": "stream",
     "text": [
      "x shape:  (768, 8)  y shape:  (768,)\n"
     ]
    }
   ],
   "source": [
    "x = pdiabetes.iloc[1:,:8]\n",
    "y = pdiabetes.iloc[1:,8:].values.flatten()\n",
    "print('x shape: ', x.shape, ' y shape: ', y.shape)"
   ],
   "metadata": {
    "collapsed": false,
    "pycharm": {
     "name": "#%%\n"
    }
   }
  },
  {
   "cell_type": "code",
   "execution_count": 7,
   "outputs": [
    {
     "name": "stdout",
     "output_type": "stream",
     "text": [
      "학습 데이터 정확도 :  0.8246527777777778\n",
      "테스트 데이터 정확도 :  0.7760416666666666\n"
     ]
    }
   ],
   "source": [
    "x_train, x_test, y_train, y_test = train_test_split(x, y, random_state=0)\n",
    "std_scl = StandardScaler()  # Standardize features by removing the mean and scaling to unit variance.\n",
    "std_scl.fit(x_train)\n",
    "\n",
    "x_train = std_scl.transform(x_train)\n",
    "x_test = std_scl.transform(x_test)\n",
    "\n",
    "'''\n",
    "class sklearn.svm.SVC\n",
    "\n",
    "C-Support Vector Classification.\n",
    "\n",
    "Parameters :\n",
    "\n",
    "# C: float, default=1.0\n",
    "Regularization parameter. The strength of the regularization is inversely proportional to C. Must be strictly positive. The penalty is a squared l2 penalty.\n",
    "\n",
    "# kernel: {‘linear’, ‘poly’, ‘rbf’, ‘sigmoid’, ‘precomputed’} or callable, default=’rbf’\n",
    "Specifies the kernel type to be used in the algorithm.\n",
    "\n",
    "etc...\n",
    "'''\n",
    "# rbf 커널 사용\n",
    "svc = SVC(kernel='rbf')\n",
    "svc.fit(x_train, y_train)\n",
    "\n",
    "print('학습 데이터 정확도 : ', svc.score(x_train, y_train))\n",
    "print('테스트 데이터 정확도 : ', svc.score(x_test, y_test))"
   ],
   "metadata": {
    "collapsed": false,
    "pycharm": {
     "name": "#%%\n"
    }
   }
  },
  {
   "cell_type": "code",
   "execution_count": null,
   "outputs": [],
   "source": [],
   "metadata": {
    "collapsed": false,
    "pycharm": {
     "name": "#%%\n"
    }
   }
  }
 ],
 "metadata": {
  "kernelspec": {
   "display_name": "Python 3",
   "language": "python",
   "name": "python3"
  },
  "language_info": {
   "codemirror_mode": {
    "name": "ipython",
    "version": 2
   },
   "file_extension": ".py",
   "mimetype": "text/x-python",
   "name": "python",
   "nbconvert_exporter": "python",
   "pygments_lexer": "ipython2",
   "version": "2.7.6"
  }
 },
 "nbformat": 4,
 "nbformat_minor": 0
}