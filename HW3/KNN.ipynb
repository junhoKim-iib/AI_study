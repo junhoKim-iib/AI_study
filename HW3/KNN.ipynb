{
 "cells": [
  {
   "cell_type": "code",
   "execution_count": 4,
   "metadata": {
    "collapsed": true
   },
   "outputs": [
    {
     "name": "stdout",
     "output_type": "stream",
     "text": [
      "[[13  0  0]\n",
      " [ 0 16  0]\n",
      " [ 0  3 13]]\n",
      "              precision    recall  f1-score   support\n",
      "\n",
      "           0       1.00      1.00      1.00        13\n",
      "           1       0.84      1.00      0.91        16\n",
      "           2       1.00      0.81      0.90        16\n",
      "\n",
      "    accuracy                           0.93        45\n",
      "   macro avg       0.95      0.94      0.94        45\n",
      "weighted avg       0.94      0.93      0.93        45\n",
      "\n"
     ]
    }
   ],
   "source": [
    "import numpy as np\n",
    "import matplotlib.pyplot as plt\n",
    "import pandas as pd\n",
    "from sklearn import datasets\n",
    "from sklearn.model_selection import train_test_split\n",
    "from sklearn.metrics import classification_report, confusion_matrix\n",
    "from sklearn.preprocessing import StandardScaler\n",
    "from sklearn.neighbors import KNeighborsClassifier\n",
    "\n",
    "# load data\n",
    "iris = datasets.load_iris()\n",
    "X = iris.data\n",
    "y = iris.target\n",
    "\n",
    "X_train, X_test, y_train, y_test = train_test_split(X, y, test_size=0.3)\n",
    "\n",
    "# Feature Scaling\n",
    "# Standardize features by removing the mean and scaling to unit variance.\n",
    "scaler = StandardScaler()\n",
    "scaler.fit(X_train) # Compute the mean and std to be used for later scaling.\n",
    "X_train = scaler.transform(X_train) #Perform standardization by centering and scaling.\n",
    "X_test = scaler.transform(X_test)#Perform standardization by centering and scaling.\n",
    "\n",
    "# Training and Predictions\n",
    "# Classifier implementing the k-nearest neighbors vote.\n",
    "# parameters:\n",
    "  # n_neighbors : int, default=5  / Number of neighbors to use by default for kneighbors queries.\n",
    "  # algorithm : {‘auto’, ‘ball_tree’, ‘kd_tree’, ‘brute’}, default=’auto’ / Algorithm used to compute the nearest neighbors\n",
    "  # leaf_size : int, default=30 / Leaf size passed to BallTree or KDTree\n",
    "  # p : int, default=2 / Power parameter for the Minkowski metric\n",
    "  # metric : str or callable, default=’minkowski’ / The distance metric to use for the tree\n",
    "  # metric_params : dict, default=None / Additional keyword arguments for the metric function.\n",
    "  # n_jobs : int, default=None / The number of parallel jobs to run for neighbors search\n",
    "classifier = KNeighborsClassifier(n_neighbors=5)\n",
    "\n",
    "# Fit the k-nearest neighbors classifier from the training dataset.\n",
    "classifier.fit(X_train, y_train)\n",
    "\n",
    "# Predict the class labels for the provided data.\n",
    "y_pred = classifier.predict(X_test)\n",
    "\n",
    "# Evaluating the Algorithm\n",
    "print(confusion_matrix(y_test, y_pred)) # 혼동행렬 생성\n",
    "print(classification_report(y_test, y_pred))"
   ]
  },
  {
   "cell_type": "code",
   "execution_count": 5,
   "outputs": [
    {
     "data": {
      "text/plain": "Text(0, 0.5, 'Mean Error')"
     },
     "execution_count": 5,
     "metadata": {},
     "output_type": "execute_result"
    },
    {
     "data": {
      "text/plain": "<Figure size 864x432 with 1 Axes>",
      "image/png": "[encoded data removed]"
     },
     "metadata": {
      "needs_background": "light"
     },
     "output_type": "display_data"
    }
   ],
   "source": [
    "error = []\n",
    "\n",
    "# n_neighbors 값에 따른 에러율 변화\n",
    "for i in range(1, 40):\n",
    "\n",
    "    knn = KNeighborsClassifier(n_neighbors = i)\n",
    "    knn.fit(X_train, y_train)\n",
    "    pred_i = knn.predict(X_test)\n",
    "    error.append(np.mean(pred_i != y_test))\n",
    "\n",
    "plt.figure(figsize =(12, 6))\n",
    "plt.plot(range(1, 40), error, color ='blue',\n",
    "                linestyle ='dashed', marker ='o',\n",
    "         markerfacecolor ='red', markersize = 10)\n",
    "\n",
    "plt.title('Error Rate vs. K Value')\n",
    "plt.xlabel('K Value')\n",
    "plt.ylabel('Mean Error')"
   ],
   "metadata": {
    "collapsed": false,
    "pycharm": {
     "name": "#%%\n"
    }
   }
  }
 ],
 "metadata": {
  "kernelspec": {
   "display_name": "Python 3",
   "language": "python",
   "name": "python3"
  },
  "language_info": {
   "codemirror_mode": {
    "name": "ipython",
    "version": 2
   },
   "file_extension": ".py",
   "mimetype": "text/x-python",
   "name": "python",
   "nbconvert_exporter": "python",
   "pygments_lexer": "ipython2",
   "version": "2.7.6"
  }
 },
 "nbformat": 4,
 "nbformat_minor": 0
}