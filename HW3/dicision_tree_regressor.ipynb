{
 "cells": [
  {
   "cell_type": "code",
   "execution_count": 5,
   "metadata": {
    "collapsed": true
   },
   "outputs": [],
   "source": [
    "from sklearn.tree import DecisionTreeRegressor\n",
    "import pandas as pd\n",
    "import matplotlib.pyplot as plt"
   ]
  },
  {
   "cell_type": "code",
   "execution_count": 6,
   "outputs": [
    {
     "name": "stdout",
     "output_type": "stream",
     "text": [
      "      CRIM    ZN  INDUS  CHAS    NOX     RM   AGE     DIS  RAD    TAX  \\\n",
      "0  0.00632  18.0   2.31     0  0.538  6.575  65.2  4.0900    1  296.0   \n",
      "1  0.02731   0.0   7.07     0  0.469  6.421  78.9  4.9671    2  242.0   \n",
      "2  0.02729   0.0   7.07     0  0.469  7.185  61.1  4.9671    2  242.0   \n",
      "3  0.03237   0.0   2.18     0  0.458  6.998  45.8  6.0622    3  222.0   \n",
      "4  0.06905   0.0   2.18     0  0.458  7.147  54.2  6.0622    3  222.0   \n",
      "\n",
      "   PTRATIO       B  LSTAT  MEDV  \n",
      "0     15.3  396.90   4.98  24.0  \n",
      "1     17.8  396.90   9.14  21.6  \n",
      "2     17.8  392.83   4.03  34.7  \n",
      "3     18.7  394.63   2.94  33.4  \n",
      "4     18.7  396.90   5.33  36.2  \n"
     ]
    }
   ],
   "source": [
    "df = pd.read_csv('housing.data', header=None, sep='\\s+')\n",
    "df.columns = ['CRIM','ZN', 'INDUS', 'CHAS', 'NOX','RM', 'AGE', 'DIS', 'RAD',\n",
    "              'TAX', 'PTRATIO', 'B', 'LSTAT', 'MEDV']\n",
    "print(df.head())\n",
    "X = df[['LSTAT']].values\n",
    "y = df['MEDV'].values"
   ],
   "metadata": {
    "collapsed": false,
    "pycharm": {
     "name": "#%%\n"
    }
   }
  },
  {
   "cell_type": "code",
   "execution_count": 7,
   "outputs": [
    {
     "data": {
      "text/plain": "DecisionTreeRegressor(max_depth=3)"
     },
     "execution_count": 7,
     "metadata": {},
     "output_type": "execute_result"
    }
   ],
   "source": [
    "# A decision tree regressor.\n",
    "# Parameters :\n",
    "  # criterion : {“squared_error”, “friedman_mse”, “absolute_error”, “poisson”}, default=”squared_error” / The function to measure the quality of a split.\n",
    "  # splitter : {“best”, “random”}, default=”best” / The strategy used to choose the split at each node.\n",
    "  # max_depth : int, default=None / The maximum depth of the tree.\n",
    "  # min_samples_split : int or float, default=2 / The minimum number of samples required to split an internal node\n",
    "  # min_samples_leaf : int or float, default=1 / The minimum number of samples required to be at a leaf node\n",
    "  # min_weight_fraction_leaf : float, default=0.0 / The minimum weighted fraction of the sum total of weights (of all the input samples) required to be at a leaf node.\n",
    "  # max_features : int, float or {“auto”, “sqrt”, “log2”}, default=None / The number of features to consider when looking for the best split\n",
    "  # random_state : int, RandomState instance or None, default=None / Controls the randomness of the estimator.\n",
    "  # max_leaf_nodes : int, default=None / Grow a tree with max_leaf_nodes in best-first fashion.\n",
    "  # min_impurity_decrease : float, default=0.0 / A node will be split if this split induces a decrease of the impurity greater than or equal to this value.\n",
    "  # ccp_alpha : non-negative float, default=0.0 / Complexity parameter used for Minimal Cost-Complexity Pruning.\n",
    "tree = DecisionTreeRegressor(max_depth=3)\n",
    "tree.fit(X,y)  # Build a decision tree regressor from the training set (X, y)."
   ],
   "metadata": {
    "collapsed": false,
    "pycharm": {
     "name": "#%%\n"
    }
   }
  },
  {
   "cell_type": "code",
   "execution_count": 8,
   "outputs": [
    {
     "data": {
      "text/plain": "<Figure size 432x288 with 1 Axes>",
      "image/png": "[encoded data removed]"
     },
     "metadata": {
      "needs_background": "light"
     },
     "output_type": "display_data"
    }
   ],
   "source": [
    "# 출력\n",
    "sort_idx = X.flatten().argsort()\n",
    "plt.scatter(X[sort_idx], y[sort_idx], c='lightblue')\n",
    "plt.plot(X[sort_idx],tree.predict(X[sort_idx]), color='red', linewidth=2)\n",
    "plt.xlabel('LSTAT(% Lower Status of the Population)')\n",
    "plt.ylabel('MEDV(Price in $1000)')\n",
    "plt.show()"
   ],
   "metadata": {
    "collapsed": false,
    "pycharm": {
     "name": "#%%\n"
    }
   }
  },
  {
   "cell_type": "code",
   "execution_count": null,
   "outputs": [],
   "source": [],
   "metadata": {
    "collapsed": false,
    "pycharm": {
     "name": "#%%\n"
    }
   }
  }
 ],
 "metadata": {
  "kernelspec": {
   "display_name": "Python 3",
   "language": "python",
   "name": "python3"
  },
  "language_info": {
   "codemirror_mode": {
    "name": "ipython",
    "version": 2
   },
   "file_extension": ".py",
   "mimetype": "text/x-python",
   "name": "python",
   "nbconvert_exporter": "python",
   "pygments_lexer": "ipython2",
   "version": "2.7.6"
  }
 },
 "nbformat": 4,
 "nbformat_minor": 0
}