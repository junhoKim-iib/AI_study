{
 "cells": [
  {
   "cell_type": "code",
   "execution_count": 1,
   "metadata": {
    "collapsed": true
   },
   "outputs": [],
   "source": [
    "import numpy as np\n",
    "import pandas as pd\n",
    "from sklearn.datasets import load_boston\n",
    "from sklearn.model_selection import train_test_split\n",
    "from sklearn.preprocessing import StandardScaler\n",
    "import matplotlib.pyplot as plt\n",
    "from sklearn.linear_model import LinearRegression, Ridge, Lasso, ElasticNet\n",
    "from sklearn.metrics import mean_squared_error"
   ]
  },
  {
   "cell_type": "code",
   "execution_count": 2,
   "outputs": [
    {
     "name": "stderr",
     "output_type": "stream",
     "text": [
      "C:\\Anaconda3\\lib\\site-packages\\sklearn\\utils\\deprecation.py:87: FutureWarning: Function load_boston is deprecated; `load_boston` is deprecated in 1.0 and will be removed in 1.2.\n",
      "\n",
      "    The Boston housing prices dataset has an ethical problem. You can refer to\n",
      "    the documentation of this function for further details.\n",
      "\n",
      "    The scikit-learn maintainers therefore strongly discourage the use of this\n",
      "    dataset unless the purpose of the code is to study and educate about\n",
      "    ethical issues in data science and machine learning.\n",
      "\n",
      "    In this special case, you can fetch the dataset from the original\n",
      "    source::\n",
      "\n",
      "        import pandas as pd\n",
      "        import numpy as np\n",
      "\n",
      "\n",
      "        data_url = \"http://lib.stat.cmu.edu/datasets/boston\"\n",
      "        raw_df = pd.read_csv(data_url, sep=\"\\s+\", skiprows=22, header=None)\n",
      "        data = np.hstack([raw_df.values[::2, :], raw_df.values[1::2, :2]])\n",
      "        target = raw_df.values[1::2, 2]\n",
      "\n",
      "    Alternative datasets include the California housing dataset (i.e.\n",
      "    :func:`~sklearn.datasets.fetch_california_housing`) and the Ames housing\n",
      "    dataset. You can load the datasets as follows::\n",
      "\n",
      "        from sklearn.datasets import fetch_california_housing\n",
      "        housing = fetch_california_housing()\n",
      "\n",
      "    for the California housing dataset and::\n",
      "\n",
      "        from sklearn.datasets import fetch_openml\n",
      "        housing = fetch_openml(name=\"house_prices\", as_frame=True)\n",
      "\n",
      "    for the Ames housing dataset.\n",
      "    \n",
      "  warnings.warn(msg, category=FutureWarning)\n"
     ]
    }
   ],
   "source": [
    "boston = load_boston()\n",
    "data = pd.DataFrame(boston.data, columns=boston.feature_names)\n",
    "X = data[['RM','PTRATIO','RAD','TAX','LSTAT','CRIM','NOX','B']].values\n",
    "y = boston.target\n"
   ],
   "metadata": {
    "collapsed": false,
    "pycharm": {
     "name": "#%%\n"
    }
   }
  },
  {
   "cell_type": "code",
   "execution_count": 3,
   "outputs": [],
   "source": [
    "sc_x = StandardScaler()\n",
    "sc_y = StandardScaler()\n",
    "X_std = sc_x.fit_transform(X)\n",
    "y_std = sc_y.fit_transform(y[:,np.newaxis]).flatten()\n",
    "X_train, X_test, y_train, y_test = train_test_split(X_std, y_std, test_size=0.2, random_state=123)\n",
    "\n",
    "linear = LinearRegression()\n",
    "ridge = Ridge(alpha=1.0, random_state=0)\n",
    "lasso = Lasso(alpha=1.0, random_state=0)\n",
    "enet = ElasticNet(alpha=1.0, l1_ratio=0.5)\n"
   ],
   "metadata": {
    "collapsed": false,
    "pycharm": {
     "name": "#%%\n"
    }
   }
  },
  {
   "cell_type": "code",
   "execution_count": 7,
   "outputs": [
    {
     "name": "stdout",
     "output_type": "stream",
     "text": [
      "Linear - RMSE for training data:  0.527646292874511\n",
      "Ridge - RMSE for training data:  0.5276524376179831\n",
      "Lasso - RMSE for training data:  1.0017823143577615\n",
      "Elastic Net - RMSE for training data:  0.8463715147933433\n"
     ]
    }
   ],
   "source": [
    "linear.fit(X_train, y_train)\n",
    "ridge.fit(X_train, y_train)\n",
    "lasso.fit(X_train, y_train)\n",
    "enet.fit(X_train, y_train)\n",
    "\n",
    "linear_pred = linear.predict(X_train)\n",
    "ridge_pred = ridge.predict(X_train)\n",
    "lasso_pred = lasso.predict(X_train)\n",
    "enet_pred = enet.predict(X_train)\n",
    "print('Linear - RMSE for training data: ', np.sqrt(mean_squared_error(y_train, linear_pred)))\n",
    "print('Ridge - RMSE for training data: ', np.sqrt(mean_squared_error(y_train, ridge_pred)))\n",
    "print('Lasso - RMSE for training data: ', np.sqrt(mean_squared_error(y_train, lasso_pred)))\n",
    "print('Elastic Net - RMSE for training data: ', np.sqrt(mean_squared_error(y_train, enet_pred)))\n"
   ],
   "metadata": {
    "collapsed": false,
    "pycharm": {
     "name": "#%%\n"
    }
   }
  },
  {
   "cell_type": "code",
   "execution_count": 8,
   "outputs": [
    {
     "name": "stdout",
     "output_type": "stream",
     "text": [
      "Linear - RMSE for training data:  0.6299606779044659\n",
      "Ridge - RMSE for training data:  0.6299657952065146\n",
      "Lasso - RMSE for training data:  0.9936481587307943\n",
      "Elastic Net - RMSE for training data:  0.8578764629897222\n"
     ]
    }
   ],
   "source": [
    "linear_pred = linear.predict(X_test)\n",
    "ridge_pred = ridge.predict(X_test)\n",
    "lasso_pred = lasso.predict(X_test)\n",
    "enet_pred = enet.predict(X_test)\n",
    "print('Linear - RMSE for training data: ', np.sqrt(mean_squared_error(y_test, linear_pred)))\n",
    "print('Ridge - RMSE for training data: ', np.sqrt(mean_squared_error(y_test, ridge_pred)))\n",
    "print('Lasso - RMSE for training data: ', np.sqrt(mean_squared_error(y_test, lasso_pred)))\n",
    "print('Elastic Net - RMSE for training data: ', np.sqrt(mean_squared_error(y_test, enet_pred)))\n"
   ],
   "metadata": {
    "collapsed": false,
    "pycharm": {
     "name": "#%%\n"
    }
   }
  },
  {
   "cell_type": "code",
   "execution_count": null,
   "outputs": [],
   "source": [],
   "metadata": {
    "collapsed": false,
    "pycharm": {
     "name": "#%%\n"
    }
   }
  }
 ],
 "metadata": {
  "kernelspec": {
   "display_name": "Python 3",
   "language": "python",
   "name": "python3"
  },
  "language_info": {
   "codemirror_mode": {
    "name": "ipython",
    "version": 2
   },
   "file_extension": ".py",
   "mimetype": "text/x-python",
   "name": "python",
   "nbconvert_exporter": "python",
   "pygments_lexer": "ipython2",
   "version": "2.7.6"
  }
 },
 "nbformat": 4,
 "nbformat_minor": 0
}