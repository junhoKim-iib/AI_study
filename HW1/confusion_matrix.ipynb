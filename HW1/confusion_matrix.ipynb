{
 "cells": [
  {
   "cell_type": "code",
   "execution_count": 6,
   "id": "5dff2dd6",
   "metadata": {},
   "outputs": [
    {
     "name": "stdout",
     "output_type": "stream",
     "text": [
      "confusion matrix\n",
      "[[1 2]\n",
      " [1 3]]\n",
      "accuracy:  0.5714285714285714\n",
      "accuracy:  0.4\n"
     ]
    }
   ],
   "source": [
    "import numpy as np\n",
    "\n",
    "\n",
    "from sklearn.metrics import accuracy_score, confusion_matrix # 정확도 분류 점수./ \n",
    "# 분류의 정확성을 평가하기 위해 혼동 행렬을 계산\n",
    "\n",
    "# 정답\n",
    "y_true = [\"positive\", \"negative\", \"negative\", \"positive\", \"positive\",\n",
    "          \"positive\", \"negative\"]\n",
    "\n",
    "# 예측한 값\n",
    "y_pred = [\"positive\", \"negative\", \"positive\",\"positive\", \"negative\",\n",
    "          \"positive\", \"positive\"]\n",
    "\n",
    "# 실제 클래스에 해당하는 각 행으로 혼동 행렬을 계산하여 분류 정확도를 평가\n",
    "cm = confusion_matrix(y_true, y_pred)  # 목표 값, 예측 값\n",
    "print('confusion matrix')\n",
    "print(cm)\n",
    "\n",
    "# multilabel 분류에서 subset 정확도 계산\n",
    "# 샘플에 대해 예측 된 레이블 세트는 y_true의 해당 레이블 세트와 정확히 일치 해야함\n",
    "a = accuracy_score(y_true, y_pred) # 목표 값, 예측 값\n",
    "print('accuracy: ', a)\n",
    "\n",
    "y_true = [0, 1, 2, 3, 7]\n",
    "y_pred = [1, 5, 2, 4, 7]\n",
    "\n",
    "a= accuracy_score(y_true, y_pred)# 목표 값, 예측 값\n",
    "print('accuracy: ', a)"
   ]
  },
  {
   "cell_type": "code",
   "execution_count": null,
   "id": "78f72e5c",
   "metadata": {},
   "outputs": [],
   "source": []
  }
 ],
 "metadata": {
  "kernelspec": {
   "display_name": "Python 3 (ipykernel)",
   "language": "python",
   "name": "python3"
  },
  "language_info": {
   "codemirror_mode": {
    "name": "ipython",
    "version": 3
   },
   "file_extension": ".py",
   "mimetype": "text/x-python",
   "name": "python",
   "nbconvert_exporter": "python",
   "pygments_lexer": "ipython3",
   "version": "3.8.12"
  }
 },
 "nbformat": 4,
 "nbformat_minor": 5
}
