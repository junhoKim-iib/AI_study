{
 "cells": [
  {
   "cell_type": "code",
   "execution_count": 5,
   "id": "deef67e5",
   "metadata": {},
   "outputs": [
    {
     "name": "stdout",
     "output_type": "stream",
     "text": [
      "Ideal: 0.840\n",
      "> folds=2, accuracy=0.740 (0.700,0.780\n",
      "> folds=3, accuracy=0.749 (0.697,0.824\n",
      "> folds=4, accuracy=0.790 (0.640,0.920\n",
      "> folds=5, accuracy=0.810 (0.600,0.950\n",
      "> folds=6, accuracy=0.820 (0.688,0.941\n",
      "> folds=7, accuracy=0.799 (0.571,1.000\n",
      "> folds=8, accuracy=0.811 (0.385,0.923\n",
      "> folds=9, accuracy=0.829 (0.636,1.000\n",
      "> folds=10, accuracy=0.850 (0.600,1.000\n",
      "> folds=11, accuracy=0.829 (0.667,1.000\n",
      "> folds=12, accuracy=0.785 (0.250,1.000\n",
      "> folds=13, accuracy=0.839 (0.571,1.000\n",
      "> folds=14, accuracy=0.807 (0.429,1.000\n",
      "> folds=15, accuracy=0.821 (0.571,1.000\n",
      "> folds=16, accuracy=0.827 (0.500,1.000\n",
      "> folds=17, accuracy=0.816 (0.600,1.000\n",
      "> folds=18, accuracy=0.831 (0.600,1.000\n",
      "> folds=19, accuracy=0.826 (0.600,1.000\n"
     ]
    },
    {
     "data": {
      "image/png": "[encoded data removed]",
      "text/plain": [
       "<Figure size 432x288 with 1 Axes>"
      ]
     },
     "metadata": {
      "needs_background": "light"
     },
     "output_type": "display_data"
    }
   ],
   "source": [
    "from numpy import mean #지정된 축을 따라 산술 평균을 계산\n",
    "from sklearn.datasets import make_classification\n",
    "from sklearn.model_selection import LeaveOneOut\n",
    "from sklearn.model_selection import KFold\n",
    "from sklearn.model_selection import cross_val_score\n",
    "from sklearn.linear_model import LogisticRegression\n",
    "from matplotlib import pyplot\n",
    "\n",
    "def evaluate_model(cv):\n",
    "    # 가상의 분류모형 데이터를 생성\n",
    "    X, y = make_classification(n_samples=100 # 표본 데이터의 수\n",
    "                               , n_features=20 # 독립 변수의 수\n",
    "                               , n_informative=15 # 독립 변수 중 종속 변수와 상관 관계가 있는 성분의 수\n",
    "                               ,n_redundant=5 # 독립 변수 중 다른 독립 변수의 선형 조합으로 나타나는 성분의 수\n",
    "                               , random_state=1 # 난수 seed 설정\n",
    "                              )\n",
    "                               \n",
    "    model = LogisticRegression() # 로지스틱 회귀 모델 생성\n",
    "    # 교차 검증으로 점수 산정\n",
    "    scores = cross_val_score(model # estiator: 평가모델\n",
    "                             , X # 훈련 데이터\n",
    "                             , y # 타겟 데이터\n",
    "                             ,scoring='accuracy' # 성능 검증에 사용할 함수 이름\n",
    "                             ,cv=cv# 교차 검증 분할 수\n",
    "                             , n_jobs=-1 # 교차 검증을 수행할 때 사용할 CPU 코어 수를 지정. -1 : 모든 코어 사용\n",
    "                            )\n",
    "    return mean(scores), scores.min(), scores.max() # fold의 mean 분류 정확도와 최대 최소 정확도 리턴\n",
    "\n",
    "# 교차 검증 Leave one out\n",
    "ideal, _, _ = evaluate_model(LeaveOneOut()) \n",
    "print('Ideal: %.3f' % ideal)\n",
    "                             \n",
    "# 교차 검증 K-Fold                             \n",
    "folds = range(2,20)\n",
    "means, mins, maxs = list(), list(), list()\n",
    "                             \n",
    "for k in folds:\n",
    "    # K-Folds cross validator / Returns the number of splitting iterations in the corss validator.\n",
    "    cv = KFold(n_splits=k # 몇 개로 분할할지\n",
    "               , shuffle=True # Fold를 나누기 전에 무작위로 섞음\n",
    "               , random_state=1 # 난수 seed 설정\n",
    "              )\n",
    "    k_mean, k_min, k_max = evaluate_model(cv)\n",
    "    print('> folds=%d, accuracy=%.3f (%.3f,%.3f' % (k, k_mean, k_min, k_max))\n",
    "    means.append(k_mean)\n",
    "    mins.append(k_mean - k_min)\n",
    "    maxs.append(k_max - k_mean)\n",
    "\n",
    "# 그래프 출력\n",
    "pyplot.errorbar(folds, means, yerr=[mins,maxs], fmt='o')\n",
    "pyplot.plot(folds, [ideal for _ in range(len(folds))], color='r')\n",
    "pyplot.show()\n"
   ]
  },
  {
   "cell_type": "code",
   "execution_count": null,
   "id": "e79d9b0d",
   "metadata": {},
   "outputs": [],
   "source": []
  }
 ],
 "metadata": {
  "kernelspec": {
   "display_name": "Python 3 (ipykernel)",
   "language": "python",
   "name": "python3"
  },
  "language_info": {
   "codemirror_mode": {
    "name": "ipython",
    "version": 3
   },
   "file_extension": ".py",
   "mimetype": "text/x-python",
   "name": "python",
   "nbconvert_exporter": "python",
   "pygments_lexer": "ipython3",
   "version": "3.8.12"
  }
 },
 "nbformat": 4,
 "nbformat_minor": 5
}
