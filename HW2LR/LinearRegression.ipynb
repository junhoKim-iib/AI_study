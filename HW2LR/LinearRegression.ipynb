{
 "cells": [
  {
   "cell_type": "code",
   "execution_count": 1,
   "id": "e2ab93a3",
   "metadata": {},
   "outputs": [],
   "source": [
    "import numpy as np\n",
    "from sklearn.linear_model import LinearRegression\n",
    "from matplotlib import pyplot as plt"
   ]
  },
  {
   "cell_type": "code",
   "execution_count": 20,
   "id": "f7bd7fa7",
   "metadata": {},
   "outputs": [],
   "source": [
    "data = np.array([[30,12],[150,25],[300,35],[400,48],[130,21],[240,33],[350,46],[200,41],[100,20],[110,23],\n",
    "                [190,32],[120,24],[130,19],[270,37],[255,25]])"
   ]
  },
  {
   "cell_type": "code",
   "execution_count": 21,
   "id": "3d67b70c",
   "metadata": {
    "scrolled": true
   },
   "outputs": [
    {
     "data": {
      "image/png": "[encoded data removed]",
      "text/plain": [
       "<Figure size 432x288 with 1 Axes>"
      ]
     },
     "metadata": {
      "needs_background": "light"
     },
     "output_type": "display_data"
    }
   ],
   "source": [
    "plt.scatter(data[:,0],data[:,1]) # 데이터 위치의 산포도 출력\n",
    "plt.title(\"Linear Regression\")\n",
    "plt.xlabel(\"Delivery Distance\")\n",
    "plt.ylabel(\"Delievery Time \")\n",
    "plt.axis([0, 420, 0, 50])\n",
    "\n",
    "x = data[:,0].reshape(-1,1)  # 입력  reshape 배열 차원 재구조화\n",
    "y = data[:,1].reshape(-1,1)  # 출력  reshape 배열 차원 재구조화\n",
    "\n",
    "\n",
    "#  LinearRegression(*, fit_intercept=True, normalize='deprecated',\n",
    "#                  copy_X=True, n_jobs=None, positive=False)\n",
    "\n",
    "  # fit_intercept : bool // Whether to calculate the intercept for this model\n",
    "  # normalize : bool //  This parameter is ignored when fit_intercept is set to False\n",
    "  # copy_X : bool //  If True, X will be copied\n",
    "  # n_jobs : int //  The number of jobs to use for the computation.\n",
    "  # positive : bool // When set to True, forces the coefficients to be positive.\n",
    "\n",
    "model = LinearRegression()  # 선형회귀모델 생성\n",
    "model.fit(x,y)  # 모델 학습\n",
    "\n",
    "y_pred = model.predict(x)  # 예측값 계산\n",
    "plt.plot(x, y_pred, color='orange')\n",
    "plt.show()"
   ]
  },
  {
   "cell_type": "code",
   "execution_count": null,
   "id": "9bdeb27d",
   "metadata": {},
   "outputs": [],
   "source": []
  }
 ],
 "metadata": {
  "kernelspec": {
   "display_name": "Python 3 (ipykernel)",
   "language": "python",
   "name": "python3"
  },
  "language_info": {
   "codemirror_mode": {
    "name": "ipython",
    "version": 3
   },
   "file_extension": ".py",
   "mimetype": "text/x-python",
   "name": "python",
   "nbconvert_exporter": "python",
   "pygments_lexer": "ipython3",
   "version": "3.8.12"
  }
 },
 "nbformat": 4,
 "nbformat_minor": 5
}
